{
 "cells": [
  {
   "cell_type": "code",
   "execution_count": 2,
   "metadata": {},
   "outputs": [],
   "source": [
    "import pandas as pd\n",
    "import re"
   ]
  },
  {
   "cell_type": "code",
   "execution_count": 3,
   "metadata": {},
   "outputs": [
    {
     "name": "stdout",
     "output_type": "stream",
     "text": [
      "dvds\t    Movie_list.ipynb  py3loader  split.json\n",
      "dvds_julie  movies_list       README\t startend_frame\n"
     ]
    }
   ],
   "source": [
    "!ls"
   ]
  },
  {
   "cell_type": "code",
   "execution_count": 6,
   "metadata": {},
   "outputs": [],
   "source": [
    "file = open('dvds_julie','r')\n",
    "lines = file.readlines()\n",
    "df = pd.DataFrame(columns = ['Imdb_ID', 'Condensed_Movies_name','year'])\n",
    "imdb_id = []\n",
    "movie_names = []\n",
    "year = []\n",
    "for l in lines:\n",
    "    match = re.match('[0-9]*', l)\n",
    "    if match.end() != 0:\n",
    "        split_line = l.split(' ',2)\n",
    "        imdb_id.append(split_line[1])\n",
    "        movie_names.append(split_line[2][:-5])\n",
    "        year.append(int(split_line[2][-5:-1]))\n",
    "df['Imdb_ID'] = imdb_id\n",
    "df['Condensed_Movies_name'] = movie_names\n",
    "df['year'] = year"
   ]
  },
  {
   "cell_type": "code",
   "execution_count": 7,
   "metadata": {},
   "outputs": [
    {
     "data": {
      "text/plain": [
       "'The Lost Weekend 1945\\n'"
      ]
     },
     "execution_count": 7,
     "metadata": {},
     "output_type": "execute_result"
    }
   ],
   "source": [
    "split_line[2]"
   ]
  },
  {
   "cell_type": "code",
   "execution_count": 9,
   "metadata": {},
   "outputs": [],
   "source": [
    "df.to_csv('movie_list')"
   ]
  },
  {
   "cell_type": "code",
   "execution_count": null,
   "metadata": {},
   "outputs": [],
   "source": []
  }
 ],
 "metadata": {
  "kernelspec": {
   "display_name": "base",
   "language": "python",
   "name": "python3"
  },
  "language_info": {
   "codemirror_mode": {
    "name": "ipython",
    "version": 3
   },
   "file_extension": ".py",
   "mimetype": "text/x-python",
   "name": "python",
   "nbconvert_exporter": "python",
   "pygments_lexer": "ipython3",
   "version": "3.9.13"
  },
  "orig_nbformat": 4,
  "vscode": {
   "interpreter": {
    "hash": "0606a74d450dd16b2759e752dc95deea09ad0e1b6706e352b955fb7c854ed708"
   }
  }
 },
 "nbformat": 4,
 "nbformat_minor": 2
}
