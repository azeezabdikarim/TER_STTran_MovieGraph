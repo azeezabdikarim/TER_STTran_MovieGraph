{
 "cells": [
  {
   "cell_type": "code",
   "execution_count": 1,
   "id": "amazing-treatment",
   "metadata": {},
   "outputs": [
    {
     "ename": "ModuleNotFoundError",
     "evalue": "No module named 'MGAnnotations'",
     "output_type": "error",
     "traceback": [
      "\u001b[0;31m---------------------------------------------------------------------------\u001b[0m",
      "\u001b[0;31mModuleNotFoundError\u001b[0m                       Traceback (most recent call last)",
      "\u001b[0;32m<ipython-input-1-a69d664f166b>\u001b[0m in \u001b[0;36m<module>\u001b[0;34m\u001b[0m\n\u001b[1;32m      1\u001b[0m \u001b[0;31m# from TER_MovieGraph.Annotations.py3loader import MGAnnotations, GraphClasses\u001b[0m\u001b[0;34m\u001b[0m\u001b[0;34m\u001b[0m\u001b[0;34m\u001b[0m\u001b[0m\n\u001b[0;32m----> 2\u001b[0;31m \u001b[0;32mfrom\u001b[0m \u001b[0mTER_MovieGraph\u001b[0m\u001b[0;34m.\u001b[0m\u001b[0mAnnotations\u001b[0m\u001b[0;34m.\u001b[0m\u001b[0mpy3loader\u001b[0m\u001b[0;34m.\u001b[0m\u001b[0mMGAnnotations\u001b[0m \u001b[0;32mimport\u001b[0m \u001b[0mMGAnnotations\u001b[0m\u001b[0;34m\u001b[0m\u001b[0;34m\u001b[0m\u001b[0m\n\u001b[0m\u001b[1;32m      3\u001b[0m \u001b[0;34m\u001b[0m\u001b[0m\n\u001b[1;32m      4\u001b[0m \u001b[0mannotations_path\u001b[0m \u001b[0;34m=\u001b[0m \u001b[0;34m\"TER_MovieGraph/Annotations/py3loader/2017-11-02-51-7637_py3.pkl\"\u001b[0m\u001b[0;34m\u001b[0m\u001b[0;34m\u001b[0m\u001b[0m\n\u001b[1;32m      5\u001b[0m \u001b[0mannotations\u001b[0m \u001b[0;34m=\u001b[0m \u001b[0mMGAnnotations\u001b[0m\u001b[0;34m(\u001b[0m\u001b[0mannotations_path\u001b[0m\u001b[0;34m)\u001b[0m\u001b[0;34m\u001b[0m\u001b[0;34m\u001b[0m\u001b[0m\n",
      "\u001b[0;32m~/TER-SceneGraphGeneration/TER_MovieGraph/Annotations/py3loader/__init__.py\u001b[0m in \u001b[0;36m<module>\u001b[0;34m\u001b[0m\n\u001b[1;32m      1\u001b[0m \u001b[0;31m# from GraphClasses import ClipGraph\u001b[0m\u001b[0;34m\u001b[0m\u001b[0;34m\u001b[0m\u001b[0;34m\u001b[0m\u001b[0m\n\u001b[0;32m----> 2\u001b[0;31m \u001b[0;32mfrom\u001b[0m \u001b[0mMGAnnotations\u001b[0m \u001b[0;32mimport\u001b[0m \u001b[0mMGAnnotations\u001b[0m\u001b[0;34m\u001b[0m\u001b[0;34m\u001b[0m\u001b[0m\n\u001b[0m\u001b[1;32m      3\u001b[0m \u001b[0;34m\u001b[0m\u001b[0m\n",
      "\u001b[0;31mModuleNotFoundError\u001b[0m: No module named 'MGAnnotations'"
     ]
    }
   ],
   "source": [
    "# from TER_MovieGraph.Annotations.py3loader import MGAnnotations, GraphClasses\n",
    "from TER_MovieGraph.Annotations.py3loader.MGAnnotations import MGAnnotations\n",
    "\n",
    "annotations_path = \"TER_MovieGraph/Annotations/py3loader/2017-11-02-51-7637_py3.pkl\"\n",
    "annotations = MGAnnotations(annotations_path)\n"
   ]
  },
  {
   "cell_type": "code",
   "execution_count": null,
   "id": "pregnant-discharge",
   "metadata": {},
   "outputs": [],
   "source": []
  }
 ],
 "metadata": {
  "kernelspec": {
   "display_name": "Python 3",
   "language": "python",
   "name": "python3"
  },
  "language_info": {
   "codemirror_mode": {
    "name": "ipython",
    "version": 3
   },
   "file_extension": ".py",
   "mimetype": "text/x-python",
   "name": "python",
   "nbconvert_exporter": "python",
   "pygments_lexer": "ipython3",
   "version": "3.7.10"
  }
 },
 "nbformat": 4,
 "nbformat_minor": 5
}
